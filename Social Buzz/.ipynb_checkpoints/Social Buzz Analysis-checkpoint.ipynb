{
 "cells": [
  {
   "cell_type": "code",
   "execution_count": 1,
   "id": "5ddc4bd9",
   "metadata": {},
   "outputs": [],
   "source": [
    "import pandas as pd\n",
    "import numpy as np"
   ]
  },
  {
   "cell_type": "code",
   "execution_count": 26,
   "id": "02f68325",
   "metadata": {},
   "outputs": [
    {
     "data": {
      "text/html": [
       "<div>\n",
       "<style scoped>\n",
       "    .dataframe tbody tr th:only-of-type {\n",
       "        vertical-align: middle;\n",
       "    }\n",
       "\n",
       "    .dataframe tbody tr th {\n",
       "        vertical-align: top;\n",
       "    }\n",
       "\n",
       "    .dataframe thead th {\n",
       "        text-align: right;\n",
       "    }\n",
       "</style>\n",
       "<table border=\"1\" class=\"dataframe\">\n",
       "  <thead>\n",
       "    <tr style=\"text-align: right;\">\n",
       "      <th></th>\n",
       "      <th>User ID</th>\n",
       "      <th>Name</th>\n",
       "      <th>Email</th>\n",
       "      <th>Interests</th>\n",
       "      <th>Age</th>\n",
       "      <th>Address</th>\n",
       "      <th>Device</th>\n",
       "      <th>Duration</th>\n",
       "      <th>Type</th>\n",
       "      <th>Category</th>\n",
       "      <th>URL</th>\n",
       "      <th>Content ID</th>\n",
       "      <th>Reaction</th>\n",
       "      <th>Datetime</th>\n",
       "    </tr>\n",
       "  </thead>\n",
       "  <tbody>\n",
       "    <tr>\n",
       "      <th>0</th>\n",
       "      <td>4c731e48-0377-4d7d-b4c8-b2174b774ed8</td>\n",
       "      <td>Gary Hill</td>\n",
       "      <td>GHbnuothhymw</td>\n",
       "      <td>[0, 1]</td>\n",
       "      <td>41</td>\n",
       "      <td>6208 Wright Mountains\\nBryantfurt, AR 02531</td>\n",
       "      <td>Microsoft</td>\n",
       "      <td>11</td>\n",
       "      <td>photo</td>\n",
       "      <td>soccer</td>\n",
       "      <td>https://socialbuzz.cdn.com/content/storage/636...</td>\n",
       "      <td>230c4e4d-70c3-461d-b42c-ec09396efb3f</td>\n",
       "      <td>scared</td>\n",
       "      <td>20/09/2020</td>\n",
       "    </tr>\n",
       "    <tr>\n",
       "      <th>1</th>\n",
       "      <td>4c731e48-0377-4d7d-b4c8-b2174b774ed8</td>\n",
       "      <td>Gary Hill</td>\n",
       "      <td>GHbnuothhymw</td>\n",
       "      <td>[0, 1]</td>\n",
       "      <td>41</td>\n",
       "      <td>6208 Wright Mountains\\nBryantfurt, AR 02531</td>\n",
       "      <td>Microsoft</td>\n",
       "      <td>11</td>\n",
       "      <td>photo</td>\n",
       "      <td>fitness</td>\n",
       "      <td>https://socialbuzz.cdn.com/content/storage/4b5...</td>\n",
       "      <td>230c4e4d-70c3-461d-b42c-ec09396efb3f</td>\n",
       "      <td>scared</td>\n",
       "      <td>20/09/2020</td>\n",
       "    </tr>\n",
       "    <tr>\n",
       "      <th>2</th>\n",
       "      <td>4c731e48-0377-4d7d-b4c8-b2174b774ed8</td>\n",
       "      <td>Gary Hill</td>\n",
       "      <td>GHbnuothhymw</td>\n",
       "      <td>[0, 1]</td>\n",
       "      <td>41</td>\n",
       "      <td>6208 Wright Mountains\\nBryantfurt, AR 02531</td>\n",
       "      <td>Microsoft</td>\n",
       "      <td>11</td>\n",
       "      <td>audio</td>\n",
       "      <td>animals</td>\n",
       "      <td>https://socialbuzz.cdn.com/content/storage/674...</td>\n",
       "      <td>230c4e4d-70c3-461d-b42c-ec09396efb3f</td>\n",
       "      <td>scared</td>\n",
       "      <td>20/09/2020</td>\n",
       "    </tr>\n",
       "    <tr>\n",
       "      <th>3</th>\n",
       "      <td>5d454588-283d-459d-915d-c48a2cb4c27f</td>\n",
       "      <td>Richard Smith</td>\n",
       "      <td>RS@gmail.com</td>\n",
       "      <td>['travel']</td>\n",
       "      <td>6</td>\n",
       "      <td>00358 Heather Gardens\\nLake Heidiview, OH 42464</td>\n",
       "      <td>Motorola</td>\n",
       "      <td>88</td>\n",
       "      <td>audio</td>\n",
       "      <td>cooking</td>\n",
       "      <td>https://socialbuzz.cdn.com/content/storage/791...</td>\n",
       "      <td>97522e57-d9ab-4bd6-97bf-c24d952602d2</td>\n",
       "      <td>disgust</td>\n",
       "      <td>07/11/2020</td>\n",
       "    </tr>\n",
       "    <tr>\n",
       "      <th>4</th>\n",
       "      <td>5d454588-283d-459d-915d-c48a2cb4c27f</td>\n",
       "      <td>Richard Smith</td>\n",
       "      <td>RS@gmail.com</td>\n",
       "      <td>['travel']</td>\n",
       "      <td>6</td>\n",
       "      <td>00358 Heather Gardens\\nLake Heidiview, OH 42464</td>\n",
       "      <td>Motorola</td>\n",
       "      <td>88</td>\n",
       "      <td>audio</td>\n",
       "      <td>cooking</td>\n",
       "      <td>https://socialbuzz.cdn.com/content/storage/791...</td>\n",
       "      <td>97522e57-d9ab-4bd6-97bf-c24d952602d2</td>\n",
       "      <td>interested</td>\n",
       "      <td>22/05/2021</td>\n",
       "    </tr>\n",
       "    <tr>\n",
       "      <th>...</th>\n",
       "      <td>...</td>\n",
       "      <td>...</td>\n",
       "      <td>...</td>\n",
       "      <td>...</td>\n",
       "      <td>...</td>\n",
       "      <td>...</td>\n",
       "      <td>...</td>\n",
       "      <td>...</td>\n",
       "      <td>...</td>\n",
       "      <td>...</td>\n",
       "      <td>...</td>\n",
       "      <td>...</td>\n",
       "      <td>...</td>\n",
       "      <td>...</td>\n",
       "    </tr>\n",
       "    <tr>\n",
       "      <th>47321</th>\n",
       "      <td>5ffd8b51-164e-47e2-885e-8b8c46eb63ed</td>\n",
       "      <td>Ruth Nemoede</td>\n",
       "      <td>RN@gmail.com</td>\n",
       "      <td>['science']</td>\n",
       "      <td>0</td>\n",
       "      <td>PSC 9038, Box 4090\\nAPO AP 52456</td>\n",
       "      <td>Huawei</td>\n",
       "      <td>98</td>\n",
       "      <td>GIF</td>\n",
       "      <td>fitness</td>\n",
       "      <td>https://socialbuzz.cdn.com/content/storage/0c9...</td>\n",
       "      <td>75d6b589-7fae-4a6d-b0d0-752845150e56</td>\n",
       "      <td>worried</td>\n",
       "      <td>04/11/2020</td>\n",
       "    </tr>\n",
       "    <tr>\n",
       "      <th>47322</th>\n",
       "      <td>5ffd8b51-164e-47e2-885e-8b8c46eb63ed</td>\n",
       "      <td>Ruth Nemoede</td>\n",
       "      <td>RN@gmail.com</td>\n",
       "      <td>['science']</td>\n",
       "      <td>0</td>\n",
       "      <td>PSC 9038, Box 4090\\nAPO AP 52456</td>\n",
       "      <td>Huawei</td>\n",
       "      <td>98</td>\n",
       "      <td>video</td>\n",
       "      <td>soccer</td>\n",
       "      <td>https://socialbuzz.cdn.com/content/storage/f3e...</td>\n",
       "      <td>75d6b589-7fae-4a6d-b0d0-752845150e56</td>\n",
       "      <td>worried</td>\n",
       "      <td>04/11/2020</td>\n",
       "    </tr>\n",
       "    <tr>\n",
       "      <th>47323</th>\n",
       "      <td>5ffd8b51-164e-47e2-885e-8b8c46eb63ed</td>\n",
       "      <td>Ruth Nemoede</td>\n",
       "      <td>RN@gmail.com</td>\n",
       "      <td>['science']</td>\n",
       "      <td>0</td>\n",
       "      <td>PSC 9038, Box 4090\\nAPO AP 52456</td>\n",
       "      <td>Huawei</td>\n",
       "      <td>98</td>\n",
       "      <td>audio</td>\n",
       "      <td>travel</td>\n",
       "      <td>https://socialbuzz.cdn.com/content/storage/ec9...</td>\n",
       "      <td>75d6b589-7fae-4a6d-b0d0-752845150e56</td>\n",
       "      <td>worried</td>\n",
       "      <td>04/11/2020</td>\n",
       "    </tr>\n",
       "    <tr>\n",
       "      <th>47324</th>\n",
       "      <td>4edc3d1a-a7d9-4db6-89c3-f784d9954172</td>\n",
       "      <td>Michelle Bell</td>\n",
       "      <td>MB@gmail.com</td>\n",
       "      <td>['travel', 'tennis', 'studying']</td>\n",
       "      <td>16</td>\n",
       "      <td>958 Dalton Turnpike Apt. 529\\nMorenoland, ND 3...</td>\n",
       "      <td>Samsung</td>\n",
       "      <td>13</td>\n",
       "      <td>audio</td>\n",
       "      <td>healthy eating</td>\n",
       "      <td>https://socialbuzz.cdn.com/content/storage/7d4...</td>\n",
       "      <td>75d6b589-7fae-4a6d-b0d0-752845150e56</td>\n",
       "      <td>cherish</td>\n",
       "      <td>04/01/2021</td>\n",
       "    </tr>\n",
       "    <tr>\n",
       "      <th>47325</th>\n",
       "      <td>4edc3d1a-a7d9-4db6-89c3-f784d9954172</td>\n",
       "      <td>Michelle Bell</td>\n",
       "      <td>MB@gmail.com</td>\n",
       "      <td>['travel', 'tennis', 'studying']</td>\n",
       "      <td>16</td>\n",
       "      <td>958 Dalton Turnpike Apt. 529\\nMorenoland, ND 3...</td>\n",
       "      <td>Samsung</td>\n",
       "      <td>13</td>\n",
       "      <td>audio</td>\n",
       "      <td>technology</td>\n",
       "      <td>Not Available</td>\n",
       "      <td>75d6b589-7fae-4a6d-b0d0-752845150e56</td>\n",
       "      <td>cherish</td>\n",
       "      <td>04/01/2021</td>\n",
       "    </tr>\n",
       "  </tbody>\n",
       "</table>\n",
       "<p>47326 rows × 14 columns</p>\n",
       "</div>"
      ],
      "text/plain": [
       "                                    User ID           Name         Email  \\\n",
       "0      4c731e48-0377-4d7d-b4c8-b2174b774ed8      Gary Hill  GHbnuothhymw   \n",
       "1      4c731e48-0377-4d7d-b4c8-b2174b774ed8      Gary Hill  GHbnuothhymw   \n",
       "2      4c731e48-0377-4d7d-b4c8-b2174b774ed8      Gary Hill  GHbnuothhymw   \n",
       "3      5d454588-283d-459d-915d-c48a2cb4c27f  Richard Smith  RS@gmail.com   \n",
       "4      5d454588-283d-459d-915d-c48a2cb4c27f  Richard Smith  RS@gmail.com   \n",
       "...                                     ...            ...           ...   \n",
       "47321  5ffd8b51-164e-47e2-885e-8b8c46eb63ed   Ruth Nemoede  RN@gmail.com   \n",
       "47322  5ffd8b51-164e-47e2-885e-8b8c46eb63ed   Ruth Nemoede  RN@gmail.com   \n",
       "47323  5ffd8b51-164e-47e2-885e-8b8c46eb63ed   Ruth Nemoede  RN@gmail.com   \n",
       "47324  4edc3d1a-a7d9-4db6-89c3-f784d9954172  Michelle Bell  MB@gmail.com   \n",
       "47325  4edc3d1a-a7d9-4db6-89c3-f784d9954172  Michelle Bell  MB@gmail.com   \n",
       "\n",
       "                              Interests  Age  \\\n",
       "0                                [0, 1]   41   \n",
       "1                                [0, 1]   41   \n",
       "2                                [0, 1]   41   \n",
       "3                            ['travel']    6   \n",
       "4                            ['travel']    6   \n",
       "...                                 ...  ...   \n",
       "47321                       ['science']    0   \n",
       "47322                       ['science']    0   \n",
       "47323                       ['science']    0   \n",
       "47324  ['travel', 'tennis', 'studying']   16   \n",
       "47325  ['travel', 'tennis', 'studying']   16   \n",
       "\n",
       "                                                 Address     Device  Duration  \\\n",
       "0            6208 Wright Mountains\\nBryantfurt, AR 02531  Microsoft        11   \n",
       "1            6208 Wright Mountains\\nBryantfurt, AR 02531  Microsoft        11   \n",
       "2            6208 Wright Mountains\\nBryantfurt, AR 02531  Microsoft        11   \n",
       "3        00358 Heather Gardens\\nLake Heidiview, OH 42464   Motorola        88   \n",
       "4        00358 Heather Gardens\\nLake Heidiview, OH 42464   Motorola        88   \n",
       "...                                                  ...        ...       ...   \n",
       "47321                   PSC 9038, Box 4090\\nAPO AP 52456     Huawei        98   \n",
       "47322                   PSC 9038, Box 4090\\nAPO AP 52456     Huawei        98   \n",
       "47323                   PSC 9038, Box 4090\\nAPO AP 52456     Huawei        98   \n",
       "47324  958 Dalton Turnpike Apt. 529\\nMorenoland, ND 3...    Samsung        13   \n",
       "47325  958 Dalton Turnpike Apt. 529\\nMorenoland, ND 3...    Samsung        13   \n",
       "\n",
       "        Type        Category  \\\n",
       "0      photo          soccer   \n",
       "1      photo         fitness   \n",
       "2      audio         animals   \n",
       "3      audio         cooking   \n",
       "4      audio         cooking   \n",
       "...      ...             ...   \n",
       "47321    GIF         fitness   \n",
       "47322  video          soccer   \n",
       "47323  audio          travel   \n",
       "47324  audio  healthy eating   \n",
       "47325  audio      technology   \n",
       "\n",
       "                                                     URL  \\\n",
       "0      https://socialbuzz.cdn.com/content/storage/636...   \n",
       "1      https://socialbuzz.cdn.com/content/storage/4b5...   \n",
       "2      https://socialbuzz.cdn.com/content/storage/674...   \n",
       "3      https://socialbuzz.cdn.com/content/storage/791...   \n",
       "4      https://socialbuzz.cdn.com/content/storage/791...   \n",
       "...                                                  ...   \n",
       "47321  https://socialbuzz.cdn.com/content/storage/0c9...   \n",
       "47322  https://socialbuzz.cdn.com/content/storage/f3e...   \n",
       "47323  https://socialbuzz.cdn.com/content/storage/ec9...   \n",
       "47324  https://socialbuzz.cdn.com/content/storage/7d4...   \n",
       "47325                                      Not Available   \n",
       "\n",
       "                                 Content ID    Reaction    Datetime  \n",
       "0      230c4e4d-70c3-461d-b42c-ec09396efb3f      scared  20/09/2020  \n",
       "1      230c4e4d-70c3-461d-b42c-ec09396efb3f      scared  20/09/2020  \n",
       "2      230c4e4d-70c3-461d-b42c-ec09396efb3f      scared  20/09/2020  \n",
       "3      97522e57-d9ab-4bd6-97bf-c24d952602d2     disgust  07/11/2020  \n",
       "4      97522e57-d9ab-4bd6-97bf-c24d952602d2  interested  22/05/2021  \n",
       "...                                     ...         ...         ...  \n",
       "47321  75d6b589-7fae-4a6d-b0d0-752845150e56     worried  04/11/2020  \n",
       "47322  75d6b589-7fae-4a6d-b0d0-752845150e56     worried  04/11/2020  \n",
       "47323  75d6b589-7fae-4a6d-b0d0-752845150e56     worried  04/11/2020  \n",
       "47324  75d6b589-7fae-4a6d-b0d0-752845150e56     cherish  04/01/2021  \n",
       "47325  75d6b589-7fae-4a6d-b0d0-752845150e56     cherish  04/01/2021  \n",
       "\n",
       "[47326 rows x 14 columns]"
      ]
     },
     "execution_count": 26,
     "metadata": {},
     "output_type": "execute_result"
    }
   ],
   "source": [
    "data = pd.read_csv('Social Buzz Merged.csv')\n",
    "data"
   ]
  },
  {
   "cell_type": "code",
   "execution_count": 3,
   "id": "03767a96",
   "metadata": {},
   "outputs": [
    {
     "data": {
      "text/plain": [
       "(47326, 14)"
      ]
     },
     "execution_count": 3,
     "metadata": {},
     "output_type": "execute_result"
    }
   ],
   "source": [
    "data.shape"
   ]
  },
  {
   "cell_type": "code",
   "execution_count": 4,
   "id": "ecd7d121",
   "metadata": {},
   "outputs": [
    {
     "data": {
      "text/plain": [
       "Index(['User ID', 'Name', 'Email', 'Interests', 'Age', 'Address', 'Device',\n",
       "       'Duration', 'Type', 'Category', 'URL', 'Content ID', 'Reaction',\n",
       "       'Datetime'],\n",
       "      dtype='object')"
      ]
     },
     "execution_count": 4,
     "metadata": {},
     "output_type": "execute_result"
    }
   ],
   "source": [
    "data.columns"
   ]
  },
  {
   "cell_type": "code",
   "execution_count": 5,
   "id": "30c77012",
   "metadata": {},
   "outputs": [
    {
     "name": "stdout",
     "output_type": "stream",
     "text": [
      "<class 'pandas.core.frame.DataFrame'>\n",
      "RangeIndex: 47326 entries, 0 to 47325\n",
      "Data columns (total 14 columns):\n",
      " #   Column      Non-Null Count  Dtype \n",
      "---  ------      --------------  ----- \n",
      " 0   User ID     47326 non-null  object\n",
      " 1   Name        47326 non-null  object\n",
      " 2   Email       47326 non-null  object\n",
      " 3   Interests   47326 non-null  object\n",
      " 4   Age         47326 non-null  int64 \n",
      " 5   Address     47326 non-null  object\n",
      " 6   Device      47326 non-null  object\n",
      " 7   Duration    47326 non-null  int64 \n",
      " 8   Type        44877 non-null  object\n",
      " 9   Category    44877 non-null  object\n",
      " 10  URL         36080 non-null  object\n",
      " 11  Content ID  47326 non-null  object\n",
      " 12  Reaction    47326 non-null  object\n",
      " 13  Datetime    47326 non-null  object\n",
      "dtypes: int64(2), object(12)\n",
      "memory usage: 5.1+ MB\n"
     ]
    }
   ],
   "source": [
    "data.info()"
   ]
  },
  {
   "cell_type": "code",
   "execution_count": 6,
   "id": "42da44bb",
   "metadata": {},
   "outputs": [
    {
     "data": {
      "text/html": [
       "<div>\n",
       "<style scoped>\n",
       "    .dataframe tbody tr th:only-of-type {\n",
       "        vertical-align: middle;\n",
       "    }\n",
       "\n",
       "    .dataframe tbody tr th {\n",
       "        vertical-align: top;\n",
       "    }\n",
       "\n",
       "    .dataframe thead th {\n",
       "        text-align: right;\n",
       "    }\n",
       "</style>\n",
       "<table border=\"1\" class=\"dataframe\">\n",
       "  <thead>\n",
       "    <tr style=\"text-align: right;\">\n",
       "      <th></th>\n",
       "      <th>Age</th>\n",
       "      <th>Duration</th>\n",
       "    </tr>\n",
       "  </thead>\n",
       "  <tbody>\n",
       "    <tr>\n",
       "      <th>count</th>\n",
       "      <td>47326.000000</td>\n",
       "      <td>47326.000000</td>\n",
       "    </tr>\n",
       "    <tr>\n",
       "      <th>mean</th>\n",
       "      <td>21.910557</td>\n",
       "      <td>47.237861</td>\n",
       "    </tr>\n",
       "    <tr>\n",
       "      <th>std</th>\n",
       "      <td>13.326087</td>\n",
       "      <td>29.325801</td>\n",
       "    </tr>\n",
       "    <tr>\n",
       "      <th>min</th>\n",
       "      <td>0.000000</td>\n",
       "      <td>0.000000</td>\n",
       "    </tr>\n",
       "    <tr>\n",
       "      <th>25%</th>\n",
       "      <td>10.000000</td>\n",
       "      <td>20.000000</td>\n",
       "    </tr>\n",
       "    <tr>\n",
       "      <th>50%</th>\n",
       "      <td>22.000000</td>\n",
       "      <td>47.000000</td>\n",
       "    </tr>\n",
       "    <tr>\n",
       "      <th>75%</th>\n",
       "      <td>34.000000</td>\n",
       "      <td>73.000000</td>\n",
       "    </tr>\n",
       "    <tr>\n",
       "      <th>max</th>\n",
       "      <td>44.000000</td>\n",
       "      <td>99.000000</td>\n",
       "    </tr>\n",
       "  </tbody>\n",
       "</table>\n",
       "</div>"
      ],
      "text/plain": [
       "                Age      Duration\n",
       "count  47326.000000  47326.000000\n",
       "mean      21.910557     47.237861\n",
       "std       13.326087     29.325801\n",
       "min        0.000000      0.000000\n",
       "25%       10.000000     20.000000\n",
       "50%       22.000000     47.000000\n",
       "75%       34.000000     73.000000\n",
       "max       44.000000     99.000000"
      ]
     },
     "execution_count": 6,
     "metadata": {},
     "output_type": "execute_result"
    }
   ],
   "source": [
    "data.describe()"
   ]
  },
  {
   "cell_type": "code",
   "execution_count": 10,
   "id": "e595ab6e",
   "metadata": {},
   "outputs": [
    {
     "data": {
      "text/plain": [
       "array(['scared', 'disgust', 'interested', 'worried', 'dislike', 'peeking',\n",
       "       'super love', 'intrigued', 'hate', 'want', 'indifferent', 'love',\n",
       "       'cherish', 'heart', 'like', 'adore'], dtype=object)"
      ]
     },
     "execution_count": 10,
     "metadata": {},
     "output_type": "execute_result"
    }
   ],
   "source": [
    "reactions = data['Reaction'].unique()\n",
    "reactions"
   ]
  },
  {
   "cell_type": "code",
   "execution_count": 11,
   "id": "14880f6e",
   "metadata": {},
   "outputs": [
    {
     "data": {
      "text/plain": [
       "array(['scared', 'disgust', 'interested', 'worried', 'dislike', 'peeking',\n",
       "       'super love', 'intrigued', 'hate', 'want', 'indifferent', 'love',\n",
       "       'cherish', 'heart', 'like', 'adore'], dtype=object)"
      ]
     },
     "execution_count": 11,
     "metadata": {},
     "output_type": "execute_result"
    }
   ],
   "source": [
    "data['Reaction'].unique()"
   ]
  },
  {
   "cell_type": "code",
   "execution_count": 13,
   "id": "88bcae87",
   "metadata": {},
   "outputs": [
    {
     "data": {
      "text/plain": [
       "<AxesSubplot:>"
      ]
     },
     "execution_count": 13,
     "metadata": {},
     "output_type": "execute_result"
    },
    {
     "data": {
      "image/png": "[encoded data removed]",
      "text/plain": [
       "<Figure size 432x288 with 1 Axes>"
      ]
     },
     "metadata": {
      "needs_background": "light"
     },
     "output_type": "display_data"
    }
   ],
   "source": [
    "data['Reaction'].value_counts().plot(kind = 'barh')"
   ]
  },
  {
   "cell_type": "code",
   "execution_count": 29,
   "id": "5cedafd8",
   "metadata": {},
   "outputs": [
    {
     "data": {
      "text/plain": [
       "(11246, 14)"
      ]
     },
     "execution_count": 29,
     "metadata": {},
     "output_type": "execute_result"
    }
   ],
   "source": [
    "url = data[(data['URL'] == 'Not Available')]\n",
    "url.shape"
   ]
  },
  {
   "cell_type": "code",
   "execution_count": null,
   "id": "8109d8a2",
   "metadata": {},
   "outputs": [],
   "source": [
    "data[(data['URL'] == 'Not Available')].value_counts().plot(kind = 'barh')"
   ]
  },
  {
   "cell_type": "code",
   "execution_count": 14,
   "id": "551ff232",
   "metadata": {},
   "outputs": [
    {
     "data": {
      "text/html": [
       "<div>\n",
       "<style scoped>\n",
       "    .dataframe tbody tr th:only-of-type {\n",
       "        vertical-align: middle;\n",
       "    }\n",
       "\n",
       "    .dataframe tbody tr th {\n",
       "        vertical-align: top;\n",
       "    }\n",
       "\n",
       "    .dataframe thead th {\n",
       "        text-align: right;\n",
       "    }\n",
       "</style>\n",
       "<table border=\"1\" class=\"dataframe\">\n",
       "  <thead>\n",
       "    <tr style=\"text-align: right;\">\n",
       "      <th></th>\n",
       "      <th>Unnamed: 0</th>\n",
       "      <th>Type</th>\n",
       "      <th>Sentiment</th>\n",
       "      <th>Score</th>\n",
       "    </tr>\n",
       "  </thead>\n",
       "  <tbody>\n",
       "    <tr>\n",
       "      <th>0</th>\n",
       "      <td>0</td>\n",
       "      <td>heart</td>\n",
       "      <td>positive</td>\n",
       "      <td>60</td>\n",
       "    </tr>\n",
       "    <tr>\n",
       "      <th>1</th>\n",
       "      <td>1</td>\n",
       "      <td>want</td>\n",
       "      <td>positive</td>\n",
       "      <td>70</td>\n",
       "    </tr>\n",
       "    <tr>\n",
       "      <th>2</th>\n",
       "      <td>2</td>\n",
       "      <td>disgust</td>\n",
       "      <td>negative</td>\n",
       "      <td>0</td>\n",
       "    </tr>\n",
       "    <tr>\n",
       "      <th>3</th>\n",
       "      <td>3</td>\n",
       "      <td>hate</td>\n",
       "      <td>negative</td>\n",
       "      <td>5</td>\n",
       "    </tr>\n",
       "    <tr>\n",
       "      <th>4</th>\n",
       "      <td>4</td>\n",
       "      <td>interested</td>\n",
       "      <td>positive</td>\n",
       "      <td>30</td>\n",
       "    </tr>\n",
       "    <tr>\n",
       "      <th>5</th>\n",
       "      <td>5</td>\n",
       "      <td>indifferent</td>\n",
       "      <td>neutral</td>\n",
       "      <td>20</td>\n",
       "    </tr>\n",
       "    <tr>\n",
       "      <th>6</th>\n",
       "      <td>6</td>\n",
       "      <td>love</td>\n",
       "      <td>positive</td>\n",
       "      <td>65</td>\n",
       "    </tr>\n",
       "    <tr>\n",
       "      <th>7</th>\n",
       "      <td>7</td>\n",
       "      <td>super love</td>\n",
       "      <td>positive</td>\n",
       "      <td>75</td>\n",
       "    </tr>\n",
       "    <tr>\n",
       "      <th>8</th>\n",
       "      <td>8</td>\n",
       "      <td>cherish</td>\n",
       "      <td>positive</td>\n",
       "      <td>70</td>\n",
       "    </tr>\n",
       "    <tr>\n",
       "      <th>9</th>\n",
       "      <td>9</td>\n",
       "      <td>adore</td>\n",
       "      <td>positive</td>\n",
       "      <td>72</td>\n",
       "    </tr>\n",
       "    <tr>\n",
       "      <th>10</th>\n",
       "      <td>10</td>\n",
       "      <td>like</td>\n",
       "      <td>positive</td>\n",
       "      <td>50</td>\n",
       "    </tr>\n",
       "    <tr>\n",
       "      <th>11</th>\n",
       "      <td>11</td>\n",
       "      <td>dislike</td>\n",
       "      <td>negative</td>\n",
       "      <td>10</td>\n",
       "    </tr>\n",
       "    <tr>\n",
       "      <th>12</th>\n",
       "      <td>12</td>\n",
       "      <td>intrigued</td>\n",
       "      <td>positive</td>\n",
       "      <td>45</td>\n",
       "    </tr>\n",
       "    <tr>\n",
       "      <th>13</th>\n",
       "      <td>13</td>\n",
       "      <td>peeking</td>\n",
       "      <td>neutral</td>\n",
       "      <td>35</td>\n",
       "    </tr>\n",
       "    <tr>\n",
       "      <th>14</th>\n",
       "      <td>14</td>\n",
       "      <td>scared</td>\n",
       "      <td>negative</td>\n",
       "      <td>15</td>\n",
       "    </tr>\n",
       "    <tr>\n",
       "      <th>15</th>\n",
       "      <td>15</td>\n",
       "      <td>worried</td>\n",
       "      <td>negative</td>\n",
       "      <td>12</td>\n",
       "    </tr>\n",
       "  </tbody>\n",
       "</table>\n",
       "</div>"
      ],
      "text/plain": [
       "    Unnamed: 0         Type Sentiment  Score\n",
       "0            0        heart  positive     60\n",
       "1            1         want  positive     70\n",
       "2            2      disgust  negative      0\n",
       "3            3         hate  negative      5\n",
       "4            4   interested  positive     30\n",
       "5            5  indifferent   neutral     20\n",
       "6            6         love  positive     65\n",
       "7            7   super love  positive     75\n",
       "8            8      cherish  positive     70\n",
       "9            9        adore  positive     72\n",
       "10          10         like  positive     50\n",
       "11          11      dislike  negative     10\n",
       "12          12    intrigued  positive     45\n",
       "13          13      peeking   neutral     35\n",
       "14          14       scared  negative     15\n",
       "15          15      worried  negative     12"
      ]
     },
     "execution_count": 14,
     "metadata": {},
     "output_type": "execute_result"
    }
   ],
   "source": [
    "reaction_types = pd.read_csv('ReactionTypes.csv')\n",
    "reaction_types"
   ]
  },
  {
   "cell_type": "code",
   "execution_count": 15,
   "id": "74c5bc30",
   "metadata": {},
   "outputs": [
    {
     "data": {
      "text/plain": [
       "Index(['Unnamed: 0', 'Type', 'Sentiment', 'Score'], dtype='object')"
      ]
     },
     "execution_count": 15,
     "metadata": {},
     "output_type": "execute_result"
    }
   ],
   "source": [
    "reaction_types.columns"
   ]
  },
  {
   "cell_type": "code",
   "execution_count": 16,
   "id": "9b1af2fc",
   "metadata": {},
   "outputs": [],
   "source": [
    "reaction_types.drop(['Unnamed: 0'], axis=1, inplace=True)"
   ]
  },
  {
   "cell_type": "code",
   "execution_count": 17,
   "id": "286490ee",
   "metadata": {},
   "outputs": [
    {
     "data": {
      "text/html": [
       "<div>\n",
       "<style scoped>\n",
       "    .dataframe tbody tr th:only-of-type {\n",
       "        vertical-align: middle;\n",
       "    }\n",
       "\n",
       "    .dataframe tbody tr th {\n",
       "        vertical-align: top;\n",
       "    }\n",
       "\n",
       "    .dataframe thead th {\n",
       "        text-align: right;\n",
       "    }\n",
       "</style>\n",
       "<table border=\"1\" class=\"dataframe\">\n",
       "  <thead>\n",
       "    <tr style=\"text-align: right;\">\n",
       "      <th></th>\n",
       "      <th>Type</th>\n",
       "      <th>Sentiment</th>\n",
       "      <th>Score</th>\n",
       "    </tr>\n",
       "  </thead>\n",
       "  <tbody>\n",
       "    <tr>\n",
       "      <th>0</th>\n",
       "      <td>heart</td>\n",
       "      <td>positive</td>\n",
       "      <td>60</td>\n",
       "    </tr>\n",
       "    <tr>\n",
       "      <th>1</th>\n",
       "      <td>want</td>\n",
       "      <td>positive</td>\n",
       "      <td>70</td>\n",
       "    </tr>\n",
       "    <tr>\n",
       "      <th>2</th>\n",
       "      <td>disgust</td>\n",
       "      <td>negative</td>\n",
       "      <td>0</td>\n",
       "    </tr>\n",
       "    <tr>\n",
       "      <th>3</th>\n",
       "      <td>hate</td>\n",
       "      <td>negative</td>\n",
       "      <td>5</td>\n",
       "    </tr>\n",
       "    <tr>\n",
       "      <th>4</th>\n",
       "      <td>interested</td>\n",
       "      <td>positive</td>\n",
       "      <td>30</td>\n",
       "    </tr>\n",
       "  </tbody>\n",
       "</table>\n",
       "</div>"
      ],
      "text/plain": [
       "         Type Sentiment  Score\n",
       "0       heart  positive     60\n",
       "1        want  positive     70\n",
       "2     disgust  negative      0\n",
       "3        hate  negative      5\n",
       "4  interested  positive     30"
      ]
     },
     "execution_count": 17,
     "metadata": {},
     "output_type": "execute_result"
    }
   ],
   "source": [
    "reaction_types.head()"
   ]
  },
  {
   "cell_type": "code",
   "execution_count": 18,
   "id": "1b05353e",
   "metadata": {},
   "outputs": [
    {
     "data": {
      "text/plain": [
       "array(['heart', 'want', 'disgust', 'hate', 'interested', 'indifferent',\n",
       "       'love', 'super love', 'cherish', 'adore', 'like', 'dislike',\n",
       "       'intrigued', 'peeking', 'scared', 'worried'], dtype=object)"
      ]
     },
     "execution_count": 18,
     "metadata": {},
     "output_type": "execute_result"
    }
   ],
   "source": [
    "reaction_types['Type'].unique()"
   ]
  },
  {
   "cell_type": "code",
   "execution_count": 21,
   "id": "81caa043",
   "metadata": {},
   "outputs": [
    {
     "data": {
      "text/plain": [
       "array([60, 70,  0,  5, 30, 20, 65, 75, 72, 50, 10, 45, 35, 15, 12],\n",
       "      dtype=int64)"
      ]
     },
     "execution_count": 21,
     "metadata": {},
     "output_type": "execute_result"
    }
   ],
   "source": [
    "reaction_types['Score'].unique()"
   ]
  },
  {
   "cell_type": "code",
   "execution_count": null,
   "id": "78bb2a3b",
   "metadata": {},
   "outputs": [],
   "source": []
  }
 ],
 "metadata": {
  "kernelspec": {
   "display_name": "Python 3 (ipykernel)",
   "language": "python",
   "name": "python3"
  },
  "language_info": {
   "codemirror_mode": {
    "name": "ipython",
    "version": 3
   },
   "file_extension": ".py",
   "mimetype": "text/x-python",
   "name": "python",
   "nbconvert_exporter": "python",
   "pygments_lexer": "ipython3",
   "version": "3.10.1"
  }
 },
 "nbformat": 4,
 "nbformat_minor": 5
}
