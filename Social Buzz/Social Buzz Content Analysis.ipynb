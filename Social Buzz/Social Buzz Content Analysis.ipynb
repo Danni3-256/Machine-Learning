{
 "cells": [
  {
   "cell_type": "code",
   "execution_count": null,
   "id": "f5b74f16",
   "metadata": {},
   "outputs": [],
   "source": [
    "import pandas as pd\n",
    "import numpy as np\n",
    "import seaborn as sns\n",
    "import matplotlib.pyplot as plt"
   ]
  },
  {
   "cell_type": "code",
   "execution_count": null,
   "id": "c8663f8c",
   "metadata": {},
   "outputs": [],
   "source": [
    "content = pd.read_csv('Content.csv')\n",
    "content.head(5)"
   ]
  },
  {
   "cell_type": "code",
   "execution_count": null,
   "id": "e6929db7",
   "metadata": {},
   "outputs": [],
   "source": [
    "content.shape"
   ]
  },
  {
   "cell_type": "code",
   "execution_count": null,
   "id": "f5542592",
   "metadata": {},
   "outputs": [],
   "source": [
    "content.info()"
   ]
  },
  {
   "cell_type": "code",
   "execution_count": null,
   "id": "6c245858",
   "metadata": {},
   "outputs": [],
   "source": [
    "reactions = pd.read_csv('Reactions.csv')\n",
    "reactions.head()"
   ]
  },
  {
   "cell_type": "code",
   "execution_count": null,
   "id": "56e0b271",
   "metadata": {},
   "outputs": [],
   "source": [
    "reactions.shape"
   ]
  },
  {
   "cell_type": "code",
   "execution_count": null,
   "id": "8b34f84d",
   "metadata": {},
   "outputs": [],
   "source": [
    "reactions.info()"
   ]
  },
  {
   "cell_type": "code",
   "execution_count": null,
   "id": "03cf534f",
   "metadata": {},
   "outputs": [],
   "source": [
    "reactionTypes = pd.read_csv('reactionTypes.csv')\n",
    "reactionTypes.head(5)"
   ]
  },
  {
   "cell_type": "code",
   "execution_count": null,
   "id": "d83fd6cd",
   "metadata": {},
   "outputs": [],
   "source": [
    "reactionTypes.shape"
   ]
  },
  {
   "cell_type": "markdown",
   "id": "55fbe365",
   "metadata": {},
   "source": [
    "# Merging Data sets"
   ]
  },
  {
   "cell_type": "code",
   "execution_count": null,
   "id": "da2fcdcd",
   "metadata": {},
   "outputs": [],
   "source": [
    "#To merge the data sets, we are going to have to rename either one of the colums from reactions or reactionsType to make it easy to merge\n",
    "# renaming the 'Reaction Type' column to 'Type'\n",
    "reactions = reactions.rename(columns={'Reaction Type': 'Type'})\n",
    "reactions.head(5)"
   ]
  },
  {
   "cell_type": "code",
   "execution_count": null,
   "id": "6bcdbe84",
   "metadata": {},
   "outputs": [],
   "source": [
    "\n",
    "# Merging content_data and reactions_data on Content ID\n",
    "merged_data = pd.merge(content, reactions, on='Content ID')\n",
    "\n",
    "# merge merged_data and reaction_types_data on Type\n",
    "final_data = pd.merge(merged_data, reactionTypes, on='Type')\n",
    "\n",
    "# display the final merged data set\n",
    "final_data.head()"
   ]
  },
  {
   "cell_type": "code",
   "execution_count": null,
   "id": "0d63251d",
   "metadata": {},
   "outputs": [],
   "source": [
    "# selecting Relevant columns\n",
    "final_data = final_data.loc[:, ['Content ID', 'Content Type', 'Category','Type','Datetime','Sentiment','Score']]\n",
    "final_data.head()"
   ]
  },
  {
   "cell_type": "code",
   "execution_count": null,
   "id": "80d71d64",
   "metadata": {},
   "outputs": [],
   "source": [
    "final_data.shape"
   ]
  },
  {
   "cell_type": "code",
   "execution_count": null,
   "id": "d7b94364",
   "metadata": {},
   "outputs": [],
   "source": [
    "final_data.info()"
   ]
  },
  {
   "cell_type": "code",
   "execution_count": null,
   "id": "7430e3c6",
   "metadata": {},
   "outputs": [],
   "source": [
    "final_data.describe()"
   ]
  },
  {
   "cell_type": "code",
   "execution_count": null,
   "id": "220207f1",
   "metadata": {},
   "outputs": [],
   "source": [
    "final_data.isnull().sum()"
   ]
  },
  {
   "cell_type": "code",
   "execution_count": null,
   "id": "d95c6ca1",
   "metadata": {},
   "outputs": [],
   "source": [
    "final_data.duplicated()"
   ]
  },
  {
   "cell_type": "code",
   "execution_count": null,
   "id": "483ffc96",
   "metadata": {},
   "outputs": [],
   "source": [
    "final_data.duplicated().sum()"
   ]
  },
  {
   "cell_type": "markdown",
   "id": "44675007",
   "metadata": {},
   "source": [
    "# Exploratory Data Analysis"
   ]
  },
  {
   "cell_type": "code",
   "execution_count": null,
   "id": "298e3459",
   "metadata": {},
   "outputs": [],
   "source": [
    "print(final_data['Content Type'].unique())\n",
    "print(final_data['Sentiment'].unique())\n",
    "print(final_data['Category'].unique())\n",
    "print(final_data['Type'].unique())"
   ]
  },
  {
   "cell_type": "code",
   "execution_count": null,
   "id": "a4b8f4a2",
   "metadata": {},
   "outputs": [],
   "source": [
    "#Which content type received the most reactions?\n",
    "final_data['Content Type'].value_counts()"
   ]
  },
  {
   "cell_type": "code",
   "execution_count": null,
   "id": "33860266",
   "metadata": {},
   "outputs": [],
   "source": [
    "final_data['Content Type'].value_counts().plot(kind = 'bar')"
   ]
  },
  {
   "cell_type": "code",
   "execution_count": null,
   "id": "d3397b39",
   "metadata": {},
   "outputs": [],
   "source": [
    "final_data['Category'].value_counts()"
   ]
  },
  {
   "cell_type": "code",
   "execution_count": null,
   "id": "e1a92e5d",
   "metadata": {},
   "outputs": [],
   "source": [
    "final_data['Category'].value_counts().plot(kind = 'bar')"
   ]
  },
  {
   "cell_type": "code",
   "execution_count": null,
   "id": "6b3c7793",
   "metadata": {},
   "outputs": [],
   "source": [
    "#Top 5 Categories\n",
    "category_count = final_data['Category'].value_counts().nlargest(5)\n",
    "print(category_count)"
   ]
  },
  {
   "cell_type": "code",
   "execution_count": null,
   "id": "613ab364",
   "metadata": {},
   "outputs": [],
   "source": [
    "final_data['Category'].value_counts().nlargest(5).plot(kind = 'bar')\n",
    "plt.title('Top 5 Categories')\n",
    "plt.show()"
   ]
  },
  {
   "cell_type": "code",
   "execution_count": null,
   "id": "ec2dc550",
   "metadata": {},
   "outputs": [],
   "source": [
    "final_data['Type'].value_counts()"
   ]
  },
  {
   "cell_type": "code",
   "execution_count": null,
   "id": "35d685b8",
   "metadata": {},
   "outputs": [],
   "source": [
    "final_data['Type'].value_counts().plot(kind = 'barh')"
   ]
  },
  {
   "cell_type": "code",
   "execution_count": null,
   "id": "b3b10298",
   "metadata": {},
   "outputs": [],
   "source": [
    "# Reaction type with the highest number of negative sentiment scores\n",
    "negative_sentiments = final_data[final_data['Sentiment'] == 'negative']\n",
    "type_count = negative_sentiments['Type'].value_counts()\n",
    "print(type_count)"
   ]
  },
  {
   "cell_type": "code",
   "execution_count": null,
   "id": "84e9d588",
   "metadata": {},
   "outputs": [],
   "source": [
    "negative_sentiments['Type'].value_counts().plot(kind = 'bar')\n",
    "plt.title('Reaction Type with Highest Negative Sentiment Score')\n",
    "plt.show()"
   ]
  },
  {
   "cell_type": "code",
   "execution_count": null,
   "id": "65b7dc1c",
   "metadata": {},
   "outputs": [],
   "source": [
    "# Reaction type with the highest number of Positive sentiment scores\n",
    "positive_sentiments = final_data[final_data['Sentiment'] == 'positive']\n",
    "type_count = positive_sentiments['Type'].value_counts()\n",
    "print(type_count)"
   ]
  },
  {
   "cell_type": "code",
   "execution_count": null,
   "id": "78b2bc41",
   "metadata": {},
   "outputs": [],
   "source": [
    "positive_sentiments['Type'].value_counts().plot(kind = 'bar')\n",
    "plt.title('Reaction Type with Highest Positive Sentiment Score')\n",
    "plt.show()"
   ]
  },
  {
   "cell_type": "code",
   "execution_count": null,
   "id": "97861690",
   "metadata": {},
   "outputs": [],
   "source": [
    "final_data['Sentiment'].value_counts()"
   ]
  },
  {
   "cell_type": "code",
   "execution_count": null,
   "id": "dbb26e86",
   "metadata": {},
   "outputs": [],
   "source": [
    "final_data['Sentiment'].value_counts().plot(kind = 'pie')\n",
    "plt.title('Sentiment Distribution')\n",
    "plt.show()"
   ]
  },
  {
   "cell_type": "code",
   "execution_count": null,
   "id": "180f40b6",
   "metadata": {},
   "outputs": [],
   "source": [
    "final_data.groupby('Sentiment')['Score'].sum()"
   ]
  },
  {
   "cell_type": "code",
   "execution_count": null,
   "id": "08fdf3d8",
   "metadata": {},
   "outputs": [],
   "source": [
    "# group the data by sentiment and sum the scores\n",
    "sentiment_scores = final_data.groupby('Sentiment')['Score'].sum()\n",
    "\n",
    "# create a pie chart\n",
    "plt.pie(sentiment_scores, labels=sentiment_scores.index, autopct='%1.1f%%')\n",
    "plt.title('Sentiment Distribution Based on Scores')\n",
    "plt.show()"
   ]
  },
  {
   "cell_type": "code",
   "execution_count": null,
   "id": "07e31374",
   "metadata": {},
   "outputs": [],
   "source": [
    "# Distribution of sentiment scores for each content category\n",
    "sns.boxplot(x=\"Category\", y=\"Score\", data=final_data)"
   ]
  },
  {
   "cell_type": "code",
   "execution_count": null,
   "id": "e6cd895d",
   "metadata": {},
   "outputs": [],
   "source": [
    "# To determine which content category has the highest number of positive sentiment scores\n",
    "positive_sentiments = final_data[final_data['Sentiment'] == 'positive']\n",
    "category_count = positive_sentiments['Category'].value_counts()\n",
    "print(category_count)"
   ]
  },
  {
   "cell_type": "code",
   "execution_count": null,
   "id": "9a344760",
   "metadata": {},
   "outputs": [],
   "source": [
    "category_count = positive_sentiments['Category'].value_counts().plot(kind = 'barh')\n",
    "plt.show()"
   ]
  },
  {
   "cell_type": "markdown",
   "id": "2d55fc91",
   "metadata": {},
   "source": [
    "# Trends and Distribution for Year and Month"
   ]
  },
  {
   "cell_type": "code",
   "execution_count": null,
   "id": "db94cb71",
   "metadata": {},
   "outputs": [],
   "source": [
    "# Group data by datetime and calculate mean score\n",
    "date_scores = final_data.groupby('Datetime')['Score'].sum()\n",
    "\n",
    "# Convert index to datetime format\n",
    "date_scores.index = pd.to_datetime(date_scores.index)\n",
    "\n",
    "# Create line chart\n",
    "plt.plot(date_scores.index, date_scores.values)\n",
    "plt.title('Trends in Scores over Time')\n",
    "plt.xlabel('Date')\n",
    "plt.ylabel('Score')\n",
    "plt.show()"
   ]
  },
  {
   "cell_type": "code",
   "execution_count": null,
   "id": "3661b677",
   "metadata": {},
   "outputs": [],
   "source": [
    "#Monthly Performance based on Scores\n",
    "# Convert the Datetime column to a pandas datetime object\n",
    "final_data['Datetime'] = pd.to_datetime(final_data['Datetime'], format='%d/%m/%Y %H:%M')\n",
    "\n",
    "# Create a new column for the month and year\n",
    "final_data['Month'] = final_data['Datetime'].dt.month\n",
    "final_data['Year'] = final_data['Datetime'].dt.year\n",
    "\n",
    "# Calculate the Total score for each month and year\n",
    "monthly_scores = final_data.groupby('Month')['Score'].sum()\n",
    "yearly_scores = final_data.groupby('Year')['Score'].sum()\n",
    "\n",
    "# Plot the monthly scores\n",
    "plt.figure(figsize=(10,6))\n",
    "monthly_scores.plot(kind='bar')\n",
    "plt.title('Best Performing Months')\n",
    "plt.xlabel('Month')\n",
    "plt.ylabel('Mean Score')\n",
    "plt.show()"
   ]
  },
  {
   "cell_type": "code",
   "execution_count": null,
   "id": "0e9d8443",
   "metadata": {},
   "outputs": [],
   "source": [
    "#Yearly Performance based on Scores\n",
    "# Plot the yearly scores\n",
    "plt.figure(figsize=(10,6))\n",
    "yearly_scores.plot(kind='bar')\n",
    "plt.title('Distribution of Scores by Year')\n",
    "plt.xlabel('Year')\n",
    "plt.ylabel('Mean Score')\n",
    "plt.show()"
   ]
  },
  {
   "cell_type": "code",
   "execution_count": null,
   "id": "ef06238a",
   "metadata": {},
   "outputs": [],
   "source": []
  }
 ],
 "metadata": {
  "kernelspec": {
   "display_name": "Python 3 (ipykernel)",
   "language": "python",
   "name": "python3"
  },
  "language_info": {
   "codemirror_mode": {
    "name": "ipython",
    "version": 3
   },
   "file_extension": ".py",
   "mimetype": "text/x-python",
   "name": "python",
   "nbconvert_exporter": "python",
   "pygments_lexer": "ipython3",
   "version": "3.10.9"
  }
 },
 "nbformat": 4,
 "nbformat_minor": 5
}
