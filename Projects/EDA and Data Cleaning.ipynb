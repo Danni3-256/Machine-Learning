{
 "cells": [
  {
   "cell_type": "code",
   "execution_count": 1,
   "id": "fa436d82",
   "metadata": {},
   "outputs": [],
   "source": [
    "import pandas as pd\n",
    "import numpy as np\n",
    "import matplotlib.pyplot as plt\n",
    "import seaborn as sns\n",
    "%matplotlib inline"
   ]
  },
  {
   "cell_type": "code",
   "execution_count": 2,
   "id": "1b9956fe",
   "metadata": {},
   "outputs": [],
   "source": [
    "df = pd.read_csv('D:/D & D/women_who_have_been_murdered_in_turkey.csv')"
   ]
  },
  {
   "cell_type": "code",
   "execution_count": 3,
   "id": "54c68837",
   "metadata": {},
   "outputs": [
    {
     "data": {
      "text/html": [
       "<div>\n",
       "<style scoped>\n",
       "    .dataframe tbody tr th:only-of-type {\n",
       "        vertical-align: middle;\n",
       "    }\n",
       "\n",
       "    .dataframe tbody tr th {\n",
       "        vertical-align: top;\n",
       "    }\n",
       "\n",
       "    .dataframe thead th {\n",
       "        text-align: right;\n",
       "    }\n",
       "</style>\n",
       "<table border=\"1\" class=\"dataframe\">\n",
       "  <thead>\n",
       "    <tr style=\"text-align: right;\">\n",
       "      <th></th>\n",
       "      <th>id</th>\n",
       "      <th>city</th>\n",
       "      <th>age</th>\n",
       "      <th>date</th>\n",
       "      <th>protectionorder</th>\n",
       "      <th>why1</th>\n",
       "      <th>why2</th>\n",
       "      <th>killer1</th>\n",
       "      <th>killer2</th>\n",
       "      <th>killingway1</th>\n",
       "      <th>killingway2</th>\n",
       "      <th>killingway3</th>\n",
       "      <th>statusofkiller</th>\n",
       "      <th>year</th>\n",
       "    </tr>\n",
       "  </thead>\n",
       "  <tbody>\n",
       "    <tr>\n",
       "      <th>0</th>\n",
       "      <td>1</td>\n",
       "      <td>Adana</td>\n",
       "      <td>Resit</td>\n",
       "      <td>01/02/2008</td>\n",
       "      <td>Tespit Edilemeyen</td>\n",
       "      <td>Erkegin istedigi bir seyin gerceklesmemesi seb...</td>\n",
       "      <td>NaN</td>\n",
       "      <td>Kocasi</td>\n",
       "      <td>NaN</td>\n",
       "      <td>Atesli Silah</td>\n",
       "      <td>NaN</td>\n",
       "      <td>NaN</td>\n",
       "      <td>NaN</td>\n",
       "      <td>2008.0</td>\n",
       "    </tr>\n",
       "    <tr>\n",
       "      <th>1</th>\n",
       "      <td>2</td>\n",
       "      <td>Adana</td>\n",
       "      <td>NaN</td>\n",
       "      <td>01/12/2008</td>\n",
       "      <td>Yok</td>\n",
       "      <td>Tespit Edilemeyen</td>\n",
       "      <td>NaN</td>\n",
       "      <td>Sevgilisi</td>\n",
       "      <td>NaN</td>\n",
       "      <td>Atesli Silah</td>\n",
       "      <td>NaN</td>\n",
       "      <td>NaN</td>\n",
       "      <td>Intihar</td>\n",
       "      <td>2008.0</td>\n",
       "    </tr>\n",
       "    <tr>\n",
       "      <th>2</th>\n",
       "      <td>3</td>\n",
       "      <td>Adana</td>\n",
       "      <td>Resit Degil</td>\n",
       "      <td>01/02/2008</td>\n",
       "      <td>Yok</td>\n",
       "      <td>Tespit Edilemeyen</td>\n",
       "      <td>NaN</td>\n",
       "      <td>Babasi</td>\n",
       "      <td>NaN</td>\n",
       "      <td>Darp</td>\n",
       "      <td>NaN</td>\n",
       "      <td>NaN</td>\n",
       "      <td>Tutuklu</td>\n",
       "      <td>2008.0</td>\n",
       "    </tr>\n",
       "    <tr>\n",
       "      <th>3</th>\n",
       "      <td>4</td>\n",
       "      <td>Adana</td>\n",
       "      <td>NaN</td>\n",
       "      <td>01/04/2008</td>\n",
       "      <td>Yok</td>\n",
       "      <td>Tespit Edilemeyen</td>\n",
       "      <td>NaN</td>\n",
       "      <td>Eski Sevgilisi</td>\n",
       "      <td>NaN</td>\n",
       "      <td>Atesli Silah</td>\n",
       "      <td>NaN</td>\n",
       "      <td>NaN</td>\n",
       "      <td>Intihar</td>\n",
       "      <td>2008.0</td>\n",
       "    </tr>\n",
       "    <tr>\n",
       "      <th>4</th>\n",
       "      <td>5</td>\n",
       "      <td>Ankara</td>\n",
       "      <td>NaN</td>\n",
       "      <td>01/12/2008</td>\n",
       "      <td>Tespit Edilemeyen</td>\n",
       "      <td>Tespit Edilemeyen</td>\n",
       "      <td>NaN</td>\n",
       "      <td>Tespit Edilemeyen</td>\n",
       "      <td>NaN</td>\n",
       "      <td>Tespit Edilemeyen</td>\n",
       "      <td>NaN</td>\n",
       "      <td>NaN</td>\n",
       "      <td>Tespit Edilemeyen</td>\n",
       "      <td>2008.0</td>\n",
       "    </tr>\n",
       "  </tbody>\n",
       "</table>\n",
       "</div>"
      ],
      "text/plain": [
       "   id      city            age          date         protectionorder  \\\n",
       "0   1    Adana           Resit    01/02/2008     Tespit Edilemeyen     \n",
       "1   2    Adana             NaN    01/12/2008                    Yok    \n",
       "2   3    Adana    Resit Degil    01/02/2008                     Yok    \n",
       "3   4    Adana             NaN   01/04/2008                     Yok    \n",
       "4   5   Ankara             NaN   01/12/2008       Tespit Edilemeyen    \n",
       "\n",
       "                                                why1 why2            killer1  \\\n",
       "0  Erkegin istedigi bir seyin gerceklesmemesi seb...  NaN             Kocasi   \n",
       "1                                  Tespit Edilemeyen  NaN          Sevgilisi   \n",
       "2                                  Tespit Edilemeyen  NaN             Babasi   \n",
       "3                                  Tespit Edilemeyen  NaN     Eski Sevgilisi   \n",
       "4                                  Tespit Edilemeyen  NaN  Tespit Edilemeyen   \n",
       "\n",
       "  killer2        killingway1 killingway2 killingway3      statusofkiller  \\\n",
       "0     NaN       Atesli Silah         NaN         NaN                 NaN   \n",
       "1     NaN       Atesli Silah         NaN         NaN            Intihar    \n",
       "2     NaN               Darp         NaN         NaN            Tutuklu    \n",
       "3     NaN       Atesli Silah         NaN         NaN            Intihar    \n",
       "4     NaN  Tespit Edilemeyen         NaN         NaN   Tespit Edilemeyen   \n",
       "\n",
       "     year  \n",
       "0  2008.0  \n",
       "1  2008.0  \n",
       "2  2008.0  \n",
       "3  2008.0  \n",
       "4  2008.0  "
      ]
     },
     "execution_count": 3,
     "metadata": {},
     "output_type": "execute_result"
    }
   ],
   "source": [
    "df.head()"
   ]
  },
  {
   "cell_type": "code",
   "execution_count": 14,
   "id": "b1c3eb7d",
   "metadata": {},
   "outputs": [
    {
     "name": "stdout",
     "output_type": "stream",
     "text": [
      "<class 'pandas.core.frame.DataFrame'>\n",
      "RangeIndex: 3111 entries, 0 to 3110\n",
      "Data columns (total 14 columns):\n",
      " #   Column           Non-Null Count  Dtype  \n",
      "---  ------           --------------  -----  \n",
      " 0   id               3111 non-null   int64  \n",
      " 1   city             1931 non-null   object \n",
      " 2   age              1320 non-null   object \n",
      " 3   date             3111 non-null   object \n",
      " 4   protectionorder  3109 non-null   object \n",
      " 5   why1             3110 non-null   object \n",
      " 6   why2             70 non-null     object \n",
      " 7   killer1          3107 non-null   object \n",
      " 8   killer2          14 non-null     object \n",
      " 9   killingway1      3111 non-null   object \n",
      " 10  killingway2      70 non-null     object \n",
      " 11  killingway3      6 non-null      object \n",
      " 12  statusofkiller   1767 non-null   object \n",
      " 13  year             3111 non-null   float64\n",
      "dtypes: float64(1), int64(1), object(12)\n",
      "memory usage: 340.4+ KB\n"
     ]
    }
   ],
   "source": [
    "df.info()"
   ]
  },
  {
   "cell_type": "code",
   "execution_count": 21,
   "id": "e50a624f",
   "metadata": {},
   "outputs": [
    {
     "data": {
      "text/html": [
       "<div>\n",
       "<style scoped>\n",
       "    .dataframe tbody tr th:only-of-type {\n",
       "        vertical-align: middle;\n",
       "    }\n",
       "\n",
       "    .dataframe tbody tr th {\n",
       "        vertical-align: top;\n",
       "    }\n",
       "\n",
       "    .dataframe thead th {\n",
       "        text-align: right;\n",
       "    }\n",
       "</style>\n",
       "<table border=\"1\" class=\"dataframe\">\n",
       "  <thead>\n",
       "    <tr style=\"text-align: right;\">\n",
       "      <th></th>\n",
       "      <th>id</th>\n",
       "      <th>city</th>\n",
       "      <th>age</th>\n",
       "      <th>date</th>\n",
       "      <th>protectionorder</th>\n",
       "      <th>why1</th>\n",
       "      <th>why2</th>\n",
       "      <th>killer1</th>\n",
       "      <th>killer2</th>\n",
       "      <th>killingway1</th>\n",
       "      <th>killingway2</th>\n",
       "      <th>killingway3</th>\n",
       "      <th>statusofkiller</th>\n",
       "      <th>year</th>\n",
       "    </tr>\n",
       "  </thead>\n",
       "  <tbody>\n",
       "  </tbody>\n",
       "</table>\n",
       "</div>"
      ],
      "text/plain": [
       "Empty DataFrame\n",
       "Columns: [id, city, age, date, protectionorder, why1, why2, killer1, killer2, killingway1, killingway2, killingway3, statusofkiller, year]\n",
       "Index: []"
      ]
     },
     "execution_count": 21,
     "metadata": {},
     "output_type": "execute_result"
    }
   ],
   "source": [
    "df[df.duplicated()] #No duplicates"
   ]
  },
  {
   "cell_type": "code",
   "execution_count": 11,
   "id": "d57cf1b0",
   "metadata": {},
   "outputs": [
    {
     "data": {
      "text/plain": [
       "array(['Atesli Silah', 'Darp', 'Tespit Edilemeyen', 'Kesici Alet',\n",
       "       'Bogulma', 'Iskence', 'Yuksekten Dusme', 'Yakilma', 'Delici Alet',\n",
       "       'Kaza', 'Intihar', 'Vurucu Alet', 'Asma', 'Tazyikli Su', 'Ilac',\n",
       "       'Tecavuz', 'Zehir', 'Tespit Edilemeye', 'Elektrik Verme',\n",
       "       'Araba Kazasi', 'Ateslil Silah'], dtype=object)"
      ]
     },
     "execution_count": 11,
     "metadata": {},
     "output_type": "execute_result"
    }
   ],
   "source": [
    "df['killingway1'].unique()"
   ]
  },
  {
   "cell_type": "code",
   "execution_count": 16,
   "id": "60ab38fc",
   "metadata": {},
   "outputs": [
    {
     "data": {
      "text/plain": [
       "Atesli Silah         1433\n",
       "Kesici Alet           820\n",
       "Tespit Edilemeyen     284\n",
       "Bogulma               217\n",
       "Darp                  163\n",
       "Yuksekten Dusme        62\n",
       "Iskence                53\n",
       "Yakilma                27\n",
       "Asma                   18\n",
       "Vurucu Alet            17\n",
       "Zehir                   5\n",
       "Ilac                    2\n",
       "Intihar                 2\n",
       "Tazyikli Su             1\n",
       "Kaza                    1\n",
       "Tecavuz                 1\n",
       "Delici Alet             1\n",
       "Tespit Edilemeye        1\n",
       "Elektrik Verme          1\n",
       "Araba Kazasi            1\n",
       "Ateslil Silah           1\n",
       "Name: killingway1, dtype: int64"
      ]
     },
     "execution_count": 16,
     "metadata": {},
     "output_type": "execute_result"
    }
   ],
   "source": [
    "df['killingway1'].value_counts()"
   ]
  },
  {
   "cell_type": "code",
   "execution_count": 24,
   "id": "a6105435",
   "metadata": {},
   "outputs": [
    {
     "ename": "KeyError",
     "evalue": "'Kesici Alet'",
     "output_type": "error",
     "traceback": [
      "\u001b[1;31m---------------------------------------------------------------------------\u001b[0m",
      "\u001b[1;31mKeyError\u001b[0m                                  Traceback (most recent call last)",
      "File \u001b[1;32mC:\\ProgramData\\Anaconda3\\lib\\site-packages\\pandas\\core\\indexes\\base.py:3621\u001b[0m, in \u001b[0;36mIndex.get_loc\u001b[1;34m(self, key, method, tolerance)\u001b[0m\n\u001b[0;32m   3620\u001b[0m \u001b[38;5;28;01mtry\u001b[39;00m:\n\u001b[1;32m-> 3621\u001b[0m     \u001b[38;5;28;01mreturn\u001b[39;00m \u001b[38;5;28;43mself\u001b[39;49m\u001b[38;5;241;43m.\u001b[39;49m\u001b[43m_engine\u001b[49m\u001b[38;5;241;43m.\u001b[39;49m\u001b[43mget_loc\u001b[49m\u001b[43m(\u001b[49m\u001b[43mcasted_key\u001b[49m\u001b[43m)\u001b[49m\n\u001b[0;32m   3622\u001b[0m \u001b[38;5;28;01mexcept\u001b[39;00m \u001b[38;5;167;01mKeyError\u001b[39;00m \u001b[38;5;28;01mas\u001b[39;00m err:\n",
      "File \u001b[1;32mC:\\ProgramData\\Anaconda3\\lib\\site-packages\\pandas\\_libs\\index.pyx:136\u001b[0m, in \u001b[0;36mpandas._libs.index.IndexEngine.get_loc\u001b[1;34m()\u001b[0m\n",
      "File \u001b[1;32mC:\\ProgramData\\Anaconda3\\lib\\site-packages\\pandas\\_libs\\index.pyx:163\u001b[0m, in \u001b[0;36mpandas._libs.index.IndexEngine.get_loc\u001b[1;34m()\u001b[0m\n",
      "File \u001b[1;32mpandas\\_libs\\hashtable_class_helper.pxi:5198\u001b[0m, in \u001b[0;36mpandas._libs.hashtable.PyObjectHashTable.get_item\u001b[1;34m()\u001b[0m\n",
      "File \u001b[1;32mpandas\\_libs\\hashtable_class_helper.pxi:5206\u001b[0m, in \u001b[0;36mpandas._libs.hashtable.PyObjectHashTable.get_item\u001b[1;34m()\u001b[0m\n",
      "\u001b[1;31mKeyError\u001b[0m: 'Kesici Alet'",
      "\nThe above exception was the direct cause of the following exception:\n",
      "\u001b[1;31mKeyError\u001b[0m                                  Traceback (most recent call last)",
      "Input \u001b[1;32mIn [24]\u001b[0m, in \u001b[0;36m<cell line: 2>\u001b[1;34m()\u001b[0m\n\u001b[0;32m      1\u001b[0m \u001b[38;5;66;03m# df['Atesli Silah'].fillna('Firearm', inplace = True)\u001b[39;00m\n\u001b[1;32m----> 2\u001b[0m \u001b[43mdf\u001b[49m\u001b[43m[\u001b[49m\u001b[38;5;124;43m'\u001b[39;49m\u001b[38;5;124;43mKesici Alet\u001b[39;49m\u001b[38;5;124;43m'\u001b[39;49m\u001b[43m]\u001b[49m\u001b[38;5;241m.\u001b[39mfillna(\u001b[38;5;124m'\u001b[39m\u001b[38;5;124mCutting tool\u001b[39m\u001b[38;5;124m'\u001b[39m, inplace \u001b[38;5;241m=\u001b[39m \u001b[38;5;28;01mTrue\u001b[39;00m)\n\u001b[0;32m      3\u001b[0m df[\u001b[38;5;124m'\u001b[39m\u001b[38;5;124mTespit Edilemeyen\u001b[39m\u001b[38;5;124m'\u001b[39m]\u001b[38;5;241m.\u001b[39mfillna(\u001b[38;5;124m'\u001b[39m\u001b[38;5;124mUndetected\u001b[39m\u001b[38;5;124m'\u001b[39m, inplace \u001b[38;5;241m=\u001b[39m \u001b[38;5;28;01mTrue\u001b[39;00m)\n\u001b[0;32m      4\u001b[0m df[\u001b[38;5;124m'\u001b[39m\u001b[38;5;124mBogulma\u001b[39m\u001b[38;5;124m'\u001b[39m]\u001b[38;5;241m.\u001b[39mfillna(\u001b[38;5;124m'\u001b[39m\u001b[38;5;124mSuffocation\u001b[39m\u001b[38;5;124m'\u001b[39m, inplace \u001b[38;5;241m=\u001b[39m \u001b[38;5;28;01mTrue\u001b[39;00m)\n",
      "File \u001b[1;32mC:\\ProgramData\\Anaconda3\\lib\\site-packages\\pandas\\core\\frame.py:3505\u001b[0m, in \u001b[0;36mDataFrame.__getitem__\u001b[1;34m(self, key)\u001b[0m\n\u001b[0;32m   3503\u001b[0m \u001b[38;5;28;01mif\u001b[39;00m \u001b[38;5;28mself\u001b[39m\u001b[38;5;241m.\u001b[39mcolumns\u001b[38;5;241m.\u001b[39mnlevels \u001b[38;5;241m>\u001b[39m \u001b[38;5;241m1\u001b[39m:\n\u001b[0;32m   3504\u001b[0m     \u001b[38;5;28;01mreturn\u001b[39;00m \u001b[38;5;28mself\u001b[39m\u001b[38;5;241m.\u001b[39m_getitem_multilevel(key)\n\u001b[1;32m-> 3505\u001b[0m indexer \u001b[38;5;241m=\u001b[39m \u001b[38;5;28;43mself\u001b[39;49m\u001b[38;5;241;43m.\u001b[39;49m\u001b[43mcolumns\u001b[49m\u001b[38;5;241;43m.\u001b[39;49m\u001b[43mget_loc\u001b[49m\u001b[43m(\u001b[49m\u001b[43mkey\u001b[49m\u001b[43m)\u001b[49m\n\u001b[0;32m   3506\u001b[0m \u001b[38;5;28;01mif\u001b[39;00m is_integer(indexer):\n\u001b[0;32m   3507\u001b[0m     indexer \u001b[38;5;241m=\u001b[39m [indexer]\n",
      "File \u001b[1;32mC:\\ProgramData\\Anaconda3\\lib\\site-packages\\pandas\\core\\indexes\\base.py:3623\u001b[0m, in \u001b[0;36mIndex.get_loc\u001b[1;34m(self, key, method, tolerance)\u001b[0m\n\u001b[0;32m   3621\u001b[0m     \u001b[38;5;28;01mreturn\u001b[39;00m \u001b[38;5;28mself\u001b[39m\u001b[38;5;241m.\u001b[39m_engine\u001b[38;5;241m.\u001b[39mget_loc(casted_key)\n\u001b[0;32m   3622\u001b[0m \u001b[38;5;28;01mexcept\u001b[39;00m \u001b[38;5;167;01mKeyError\u001b[39;00m \u001b[38;5;28;01mas\u001b[39;00m err:\n\u001b[1;32m-> 3623\u001b[0m     \u001b[38;5;28;01mraise\u001b[39;00m \u001b[38;5;167;01mKeyError\u001b[39;00m(key) \u001b[38;5;28;01mfrom\u001b[39;00m \u001b[38;5;21;01merr\u001b[39;00m\n\u001b[0;32m   3624\u001b[0m \u001b[38;5;28;01mexcept\u001b[39;00m \u001b[38;5;167;01mTypeError\u001b[39;00m:\n\u001b[0;32m   3625\u001b[0m     \u001b[38;5;66;03m# If we have a listlike key, _check_indexing_error will raise\u001b[39;00m\n\u001b[0;32m   3626\u001b[0m     \u001b[38;5;66;03m#  InvalidIndexError. Otherwise we fall through and re-raise\u001b[39;00m\n\u001b[0;32m   3627\u001b[0m     \u001b[38;5;66;03m#  the TypeError.\u001b[39;00m\n\u001b[0;32m   3628\u001b[0m     \u001b[38;5;28mself\u001b[39m\u001b[38;5;241m.\u001b[39m_check_indexing_error(key)\n",
      "\u001b[1;31mKeyError\u001b[0m: 'Kesici Alet'"
     ]
    }
   ],
   "source": [
    "df['Atesli Silah'].fillna('Firearm', inplace = True)\n",
    "df['Kesici Alet'].fillna('Cutting tool', inplace = True)\n",
    "df['Tespit Edilemeyen'].fillna('Undetected', inplace = True)\n",
    "df['Bogulma'].fillna('Suffocation', inplace = True)\n",
    "df['Darp'].fillna('minting', inplace = True)\n",
    "df['Yuksekten Dusme'].fillna('Pushed_from_high', inplace = True)\n",
    "df['Iskence'].fillna('Torture', inplace = True)\n",
    "df['Yakilma'].fillna('Burned', inplace = True)\n",
    "df['Asma'].fillna('Suspended', inplace = True)\n",
    "df['Vurucu Alet'].fillna('Striking Tool', inplace = True)\n",
    "df['Zehir'].fillna('Poison', inplace = True)\n",
    "df['Ilac'].fillna('Medicine', inplace = True)\n",
    "df['Intihar'].fillna('Suicide', inplace = True)\n",
    "df['Tecavuz'].fillna('Rape', inplace = True)\n",
    "df['Kaza'].fillna('Accident', inplace = True)\n",
    "df['Delici Alet'].fillna('Piercing Tool', inplace = True)\n",
    "df['Tespit Edilemeye'].fillna('Undetected', inplace = True)\n",
    "df['Elektrik Verme'].fillna('Electric Switching', inplace = True)\n",
    "df['Araba Kazasi'].fillna('Car crash', inplace = True)\n",
    "df['Ateslil Silah'].fillna('Firearm', inplace = True)\n",
    "df['Tazyikli Su  '].fillna('Pressured water', inplace = True)"
   ]
  },
  {
   "cell_type": "code",
   "execution_count": 12,
   "id": "dbd74d6a",
   "metadata": {},
   "outputs": [
    {
     "data": {
      "text/plain": [
       "array(['   Tespit Edilemeyen  ', '   Yok ', '   Tespit Edilemeyen ',\n",
       "       '   Tespit Edilemeyen', '   Yok  ', '   Var', '   Var ',\n",
       "       '    Tespit Edilemeyen', '    ', '   Yok', 'Tespit Edilemeyen',\n",
       "       '  Tespit Edilemeyen', 'Yok', '   Var  ', nan, 'Var', 'Var '],\n",
       "      dtype=object)"
      ]
     },
     "execution_count": 12,
     "metadata": {},
     "output_type": "execute_result"
    }
   ],
   "source": [
    "df['protectionorder'].unique()"
   ]
  },
  {
   "cell_type": "code",
   "execution_count": 17,
   "id": "3ae56f92",
   "metadata": {},
   "outputs": [
    {
     "data": {
      "text/plain": [
       "   Yok                    2381\n",
       "Yok                        302\n",
       "   Tespit Edilemeyen       204\n",
       "   Var                      86\n",
       "   Tespit Edilemeyen        38\n",
       "   Yok                      26\n",
       "   Var                      17\n",
       "   Yok                      16\n",
       "Var                         15\n",
       "Tespit Edilemeyen           13\n",
       "Var                          4\n",
       "   Tespit Edilemeyen         2\n",
       "                             2\n",
       "    Tespit Edilemeyen        1\n",
       "  Tespit Edilemeyen          1\n",
       "   Var                       1\n",
       "Name: protectionorder, dtype: int64"
      ]
     },
     "execution_count": 17,
     "metadata": {},
     "output_type": "execute_result"
    }
   ],
   "source": [
    "df['protectionorder'].value_counts()"
   ]
  },
  {
   "cell_type": "code",
   "execution_count": 13,
   "id": "e55d5431",
   "metadata": {},
   "outputs": [
    {
     "data": {
      "text/plain": [
       "array(['Erkegin istedigi bir seyin gerceklesmemesi sebebiyle',\n",
       "       'Tespit Edilemeyen', 'Namus', 'Kiskanclik', 'Reddedilme',\n",
       "       'Arkadaslariyla Mesajlasma', 'Tartisma', 'Ayrilik Talebi',\n",
       "       'Husumet', 'Bosanma', 'Kaza', 'Nefret', 'Barisma Talebi',\n",
       "       'Ayrilik', 'Bosanma Talebi', 'Kriz ve Issizlik', 'Siddet',\n",
       "       'Terk Edilme', 'Aldatilma Suphesi',\n",
       "       'Ruyasinda soyundugunu gordugu icin', 'Kizini Korurken',\n",
       "       'Annesini Korurken', 'Tehdit', 'Para', 'Evlenme Talebi', 'Intikam',\n",
       "       'Sevgilisinin Olmasi', 'Kiz Kacirma', 'Namus ', 'Tartisma ',\n",
       "       'Tecavuz', 'Kadin hayatina dair bir karar vermek istedigi icin',\n",
       "       'Velayet', 'Aldatma', 'Bosanma Talebi ', 'Silahini Temizlerken',\n",
       "       'Erkek arkadasindan gelen mesaj', 'Arkadasini Korurken',\n",
       "       'Evlilik Disi Hamilelik', 'Rededilme', 'Akrabasini Korurken',\n",
       "       'Kiz Kardesini Korurken', 'Tore', 'Tespit Edilmeyen',\n",
       "       'Baska bir adamla evlenmesi', 'Siddetli Gecimsizlik',\n",
       "       'Sofra Kurmadigi Icin', 'Hirsizlik', 'KiskancliK', 'Reddedilme ',\n",
       "       'Kavga', 'Baska Bir Kadini Korurken', 'Namas', 'Evden Kacma',\n",
       "       'Ailevi Nedenler', 'Bebek Agladigi Icin', 'Tecavuzce Direnme',\n",
       "       'Bakire Olmamasi', nan, 'Tespi Edilemeyen', 'Haset', 'Husumet ',\n",
       "       'Maganda Kursunu', 'Gasp', 'Tespit Edilmeeyen',\n",
       "       'Kardesini Korurken', 'Gecimsizlik', 'Tatisma',\n",
       "       'Alzheimer Hastasi Oldugu Icin',\n",
       "       'Yetistirme Yurdundan Kactigi Icin', 'Tecavuze Direnme',\n",
       "       'Dugunun Ertelenmesi', 'Ofke', 'Kizlarini Oldurdugu Icin',\n",
       "       'Dedikodu', 'Seri Cinayet', 'Iliskisi olmasi', 'Cete Davasi',\n",
       "       'Kendi Hayatina Karar Vermek istedigi Icin',\n",
       "       'Kendi Hayatina Karar Vermek Istedigi Icin', 'Madde Bagimliligi',\n",
       "       'Akrabalarini Korurken', 'Eve Gec Gelmesi', 'Bakimsiz Olmasi',\n",
       "       'Organ Mafyasi', 'Hasta Oldugu Icin ', 'Kizini Gorme Talebi',\n",
       "       'Platonik Ask', 'Hakaret', 'Annenin Kizlarini Oldurmesi',\n",
       "       'Kiz Isteme', 'Tecavuzu Direnme', 'Annesiyle gorusmesi',\n",
       "       'Olmek istemesi',\n",
       "       'Torununun Sevgilisinin Ayriligi Kabul Edememesi', 'Yasak Iliski',\n",
       "       'Karisiyla Arkadaslik Ettigi Icin', 'Intihar', 'Gelinini Korurken',\n",
       "       'Sebebsiz', 'Panik', 'Intihar Susu', 'Aile Meclisi Karari',\n",
       "       'Cocugunun Hayatina Dair Karar Verdigi Icin'], dtype=object)"
      ]
     },
     "execution_count": 13,
     "metadata": {},
     "output_type": "execute_result"
    }
   ],
   "source": [
    "df['why1'].unique()"
   ]
  },
  {
   "cell_type": "code",
   "execution_count": 18,
   "id": "9b059d75",
   "metadata": {},
   "outputs": [
    {
     "data": {
      "text/plain": [
       "Tespit Edilemeyen                             1123\n",
       "Tartisma                                       728\n",
       "Kiskanclik                                     180\n",
       "Bosanma Talebi                                 165\n",
       "Reddedilme                                     145\n",
       "                                              ... \n",
       "Tatisma                                          1\n",
       "Velayet                                          1\n",
       "Yetistirme Yurdundan Kactigi Icin                1\n",
       "Dugunun Ertelenmesi                              1\n",
       "Cocugunun Hayatina Dair Karar Verdigi Icin       1\n",
       "Name: why1, Length: 103, dtype: int64"
      ]
     },
     "execution_count": 18,
     "metadata": {},
     "output_type": "execute_result"
    }
   ],
   "source": [
    "df['why1'].value_counts()"
   ]
  },
  {
   "cell_type": "code",
   "execution_count": null,
   "id": "49226c97",
   "metadata": {},
   "outputs": [],
   "source": []
  }
 ],
 "metadata": {
  "kernelspec": {
   "display_name": "Python 3 (ipykernel)",
   "language": "python",
   "name": "python3"
  },
  "language_info": {
   "codemirror_mode": {
    "name": "ipython",
    "version": 3
   },
   "file_extension": ".py",
   "mimetype": "text/x-python",
   "name": "python",
   "nbconvert_exporter": "python",
   "pygments_lexer": "ipython3",
   "version": "3.9.12"
  }
 },
 "nbformat": 4,
 "nbformat_minor": 5
}
