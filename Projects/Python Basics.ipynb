{
 "cells": [
  {
   "cell_type": "code",
   "execution_count": 1,
   "id": "05adb57e",
   "metadata": {},
   "outputs": [
    {
     "name": "stdout",
     "output_type": "stream",
     "text": [
      "   /|\n",
      "  / |\n",
      " /  |\n",
      "/___|\n"
     ]
    }
   ],
   "source": [
    "print(\"   /|\")\n",
    "print(\"  / |\")\n",
    "print(\" /  |\")\n",
    "print(\"/___|\")"
   ]
  },
  {
   "cell_type": "markdown",
   "id": "6611ff66",
   "metadata": {},
   "source": [
    "<b>Variables and Data Types</b>"
   ]
  },
  {
   "cell_type": "code",
   "execution_count": 2,
   "id": "0672e241",
   "metadata": {},
   "outputs": [
    {
     "name": "stdout",
     "output_type": "stream",
     "text": [
      "Gabriel Jesus is a professional football player who plays as a striker for Arsenal and the Brazil national team.\n",
      "Born on Apr 03, 1997 in Sao Paulo,\n",
      "The right-footed footballer plays as the central-forward for Brazil\n"
     ]
    }
   ],
   "source": [
    "name = \"Gabriel Jesus\"\n",
    "age = 25\n",
    "born = \"Apr 03, 1997\"\n",
    "birthplace = \"Sao Paulo\"\n",
    "club = \"Arsenal\"\n",
    "country = \"Brazil\"\n",
    "\n",
    "print(name +\" is a professional football player who plays as a striker for \"+club+\" and the Brazil national team.\")\n",
    "print(\"Born on \"+born+\" in \"+birthplace+\",\")\n",
    "print(\"The right-footed footballer plays as the central-forward for \"+ country)"
   ]
  },
  {
   "cell_type": "code",
   "execution_count": 3,
   "id": "490a3b8c",
   "metadata": {},
   "outputs": [
    {
     "name": "stdout",
     "output_type": "stream",
     "text": [
      "Enter First Number: 20\n",
      "Enter Second Number: 4\n",
      "24.0\n"
     ]
    }
   ],
   "source": [
    "num1 = input(\"Enter First Number: \")\n",
    "num2 = input(\"Enter Second Number: \")\n",
    "result = float(num1) + float(num2)\n",
    "\n",
    "print(result)"
   ]
  },
  {
   "cell_type": "markdown",
   "id": "6b5e429c",
   "metadata": {},
   "source": [
    "<b>Madlibs</b>"
   ]
  },
  {
   "cell_type": "code",
   "execution_count": 4,
   "id": "6690ca5d",
   "metadata": {},
   "outputs": [
    {
     "name": "stdout",
     "output_type": "stream",
     "text": [
      "Enter Color: blue\n",
      "Enter plural noun: violets\n",
      "Enter celebrity name: ric\n",
      "Roses are blue,\n",
      "violets are blue,\n",
      "I love ric.\n"
     ]
    }
   ],
   "source": [
    "color = input(\"Enter Color: \")\n",
    "noun = input(\"Enter plural noun: \")\n",
    "celebrity = input(\"Enter celebrity name: \")\n",
    "\n",
    "print(\"Roses are \"+ color + \",\")\n",
    "print(noun + \" are blue,\")\n",
    "print(\"I love \"+ celebrity + \".\")"
   ]
  },
  {
   "cell_type": "markdown",
   "id": "67ecb825",
   "metadata": {},
   "source": [
    "# Lists"
   ]
  },
  {
   "cell_type": "code",
   "execution_count": 5,
   "id": "6ac54533",
   "metadata": {},
   "outputs": [
    {
     "name": "stdout",
     "output_type": "stream",
     "text": [
      "Arsenal\n",
      "Man Utd\n",
      "['Chelsea', 'Tottenham', 'Liverpool', 'Man City', 'Man Utd']\n",
      "['Chelsea', 'Tottenham']\n"
     ]
    }
   ],
   "source": [
    "clubs = [\"Arsenal\",\"Chelsea\",\"Tottenham\",\"Liverpool\",\"Man City\",\"Man Utd\"]\n",
    "points = [60,67,64,81,89,55]\n",
    "print(clubs[0])\n",
    "print(clubs[-1])\n",
    "print(clubs[1:])\n",
    "print(clubs[1:3])"
   ]
  },
  {
   "cell_type": "code",
   "execution_count": 6,
   "id": "1154e25d",
   "metadata": {},
   "outputs": [
    {
     "name": "stdout",
     "output_type": "stream",
     "text": [
      "3\n",
      "1\n"
     ]
    }
   ],
   "source": [
    "print(clubs.index(\"Liverpool\"))\n",
    "print(clubs.count(\"Tottenham\"))\n",
    "clubs.sort()"
   ]
  },
  {
   "cell_type": "code",
   "execution_count": 7,
   "id": "959292c1",
   "metadata": {},
   "outputs": [
    {
     "data": {
      "text/plain": [
       "['Tottenham', 'Man Utd', 'Man City', 'Liverpool', 'Chelsea', 'Arsenal']"
      ]
     },
     "execution_count": 7,
     "metadata": {},
     "output_type": "execute_result"
    }
   ],
   "source": [
    "clubs.reverse()\n",
    "clubs"
   ]
  },
  {
   "cell_type": "code",
   "execution_count": 8,
   "id": "b72f4659",
   "metadata": {},
   "outputs": [
    {
     "data": {
      "text/plain": [
       "['Tottenham', 'Man Utd', 'Man City', 'Liverpool', 'Chelsea', 'Arsenal']"
      ]
     },
     "execution_count": 8,
     "metadata": {},
     "output_type": "execute_result"
    }
   ],
   "source": [
    "clubs2 = clubs.copy()\n",
    "clubs2"
   ]
  },
  {
   "cell_type": "markdown",
   "id": "eeecb848",
   "metadata": {},
   "source": [
    "# Tuples"
   ]
  },
  {
   "cell_type": "markdown",
   "id": "4474e059",
   "metadata": {},
   "source": [
    "Can't be modified or changed. "
   ]
  },
  {
   "cell_type": "code",
   "execution_count": 9,
   "id": "2b1f73ec",
   "metadata": {},
   "outputs": [
    {
     "data": {
      "text/plain": [
       "5"
      ]
     },
     "execution_count": 9,
     "metadata": {},
     "output_type": "execute_result"
    }
   ],
   "source": [
    "coordinates = (4,5)\n",
    "coordinates[1]"
   ]
  },
  {
   "cell_type": "markdown",
   "id": "cffa8fec",
   "metadata": {},
   "source": [
    "# Functions"
   ]
  },
  {
   "cell_type": "code",
   "execution_count": 10,
   "id": "9bfb8fa0",
   "metadata": {},
   "outputs": [
    {
     "name": "stdout",
     "output_type": "stream",
     "text": [
      "Hello User\n"
     ]
    }
   ],
   "source": [
    "def say_hi():\n",
    "    print(\"Hello User\")\n",
    "\n",
    "say_hi()"
   ]
  },
  {
   "cell_type": "code",
   "execution_count": 11,
   "id": "5aff9887",
   "metadata": {},
   "outputs": [
    {
     "name": "stdout",
     "output_type": "stream",
     "text": [
      "Hello Ric, you are 25\n",
      "Hello Cielo, you are 30\n"
     ]
    }
   ],
   "source": [
    "def sayHi(name, age):\n",
    "    print(\"Hello \"+ name + \", you are \"+ age)\n",
    "sayHi(\"Ric\",\"25\")\n",
    "sayHi(\"Cielo\", \"30\")"
   ]
  },
  {
   "cell_type": "code",
   "execution_count": 12,
   "id": "c02d9dd9",
   "metadata": {},
   "outputs": [
    {
     "name": "stdout",
     "output_type": "stream",
     "text": [
      "64\n"
     ]
    }
   ],
   "source": [
    "def cube(num):\n",
    "    return num*num*num\n",
    "\n",
    "print(cube(4))"
   ]
  },
  {
   "cell_type": "code",
   "execution_count": 13,
   "id": "4eee44cc",
   "metadata": {},
   "outputs": [
    {
     "name": "stdout",
     "output_type": "stream",
     "text": [
      "64\n"
     ]
    }
   ],
   "source": [
    "def cube(num):\n",
    "    return num*num*num\n",
    "result = cube(4)\n",
    "\n",
    "print(result)"
   ]
  },
  {
   "cell_type": "markdown",
   "id": "61d0ce41",
   "metadata": {},
   "source": [
    "# If Statements"
   ]
  },
  {
   "cell_type": "code",
   "execution_count": 14,
   "id": "0fc6dae2",
   "metadata": {},
   "outputs": [
    {
     "name": "stdout",
     "output_type": "stream",
     "text": [
      "You are female\n"
     ]
    }
   ],
   "source": [
    "is_male = False\n",
    "if is_male:\n",
    "    print(\"You are male\")\n",
    "else:\n",
    "    print(\"You are female\")"
   ]
  },
  {
   "cell_type": "code",
   "execution_count": 16,
   "id": "09fcafe6",
   "metadata": {},
   "outputs": [
    {
     "name": "stdout",
     "output_type": "stream",
     "text": [
      "Male = True, Female = False: False\n",
      "Tall = True, Short = False: True\n",
      "You're a tall male\n"
     ]
    }
   ],
   "source": [
    "is_male = input(\"Male = True, Female = False: \")\n",
    "is_tall = input(\"Tall = True, Short = False: \")\n",
    "\n",
    "if is_male and is_tall:\n",
    "    print(\"You're a tall male\")\n",
    "elif is_male and not(is_tall):\n",
    "    print(\"You're a short male\")\n",
    "elif not(is_male) and is_tall:\n",
    "    print(\"You're a tall female\")\n",
    "else:\n",
    "    print(\"You're neither male or tall\")"
   ]
  },
  {
   "cell_type": "code",
   "execution_count": 20,
   "id": "c96a1905",
   "metadata": {},
   "outputs": [
    {
     "name": "stdout",
     "output_type": "stream",
     "text": [
      "100\n"
     ]
    }
   ],
   "source": [
    "def max_num(num1, num2, num3):\n",
    "    if num1>=num2 and num2>=num3:\n",
    "        return num1\n",
    "    if num2>=num1 and num2>=num3:\n",
    "        return num2\n",
    "    else:\n",
    "        return num3\n",
    "print(max_num(300,70,100))"
   ]
  },
  {
   "cell_type": "markdown",
   "id": "0ae66fff",
   "metadata": {},
   "source": [
    "# Advanced Calculator"
   ]
  },
  {
   "cell_type": "code",
   "execution_count": 22,
   "id": "d95e64b4",
   "metadata": {},
   "outputs": [
    {
     "name": "stdout",
     "output_type": "stream",
     "text": [
      "Enter First Number: 20\n",
      "Enter Operator: /\n",
      "Enter Second Number: 2.89\n",
      "6.920415224913494\n"
     ]
    }
   ],
   "source": [
    "num1 = float(input(\"Enter First Number: \"))\n",
    "op = input(\"Enter Operator: \")\n",
    "num2 = float(input(\"Enter Second Number: \"))\n",
    "\n",
    "if op == \"+\":\n",
    "    print(num1+num2)\n",
    "elif op == \"-\":\n",
    "    print(num1-num2)\n",
    "elif op == \"/\":\n",
    "    print(num1/num2)\n",
    "elif op == \"*\":\n",
    "    print(num1*num2)\n",
    "else:\n",
    "    print(\"Invalid Operator\")"
   ]
  },
  {
   "cell_type": "code",
   "execution_count": null,
   "id": "3f05cb1e",
   "metadata": {},
   "outputs": [],
   "source": []
  }
 ],
 "metadata": {
  "kernelspec": {
   "display_name": "Python 3 (ipykernel)",
   "language": "python",
   "name": "python3"
  },
  "language_info": {
   "codemirror_mode": {
    "name": "ipython",
    "version": 3
   },
   "file_extension": ".py",
   "mimetype": "text/x-python",
   "name": "python",
   "nbconvert_exporter": "python",
   "pygments_lexer": "ipython3",
   "version": "3.9.12"
  }
 },
 "nbformat": 4,
 "nbformat_minor": 5
}
