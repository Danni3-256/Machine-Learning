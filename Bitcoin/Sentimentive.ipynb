{
 "cells": [
  {
   "cell_type": "code",
   "execution_count": 1,
   "id": "9255bf47",
   "metadata": {},
   "outputs": [
    {
     "name": "stdout",
     "output_type": "stream",
     "text": [
      "<Site object 'en.wikipedia.org/w/'>\n"
     ]
    }
   ],
   "source": [
    "import mwclient #Library helps give Access data to wikipedia\n",
    "import time\n",
    "\n",
    "site = mwclient.Site(\"en.wikipedia.org\") #Initialize media wiki client site - A class that enables us to work with the wiki site\n",
    "print (site)\n",
    "page = site.pages['Bitcoin']"
   ]
  },
  {
   "cell_type": "code",
   "execution_count": 2,
   "id": "beb111c8",
   "metadata": {},
   "outputs": [],
   "source": [
    "revs = list(page.revisions())#Fetching list of revisions[dictionary] - Gives us that list of edits"
   ]
  },
  {
   "cell_type": "code",
   "execution_count": 3,
   "id": "6df2b49c",
   "metadata": {},
   "outputs": [
    {
     "data": {
      "text/plain": [
       "OrderedDict([('revid', 1111788326),\n",
       "             ('parentid', 1111788279),\n",
       "             ('user', 'Jtbobwaysf'),\n",
       "             ('timestamp',\n",
       "              time.struct_time(tm_year=2022, tm_mon=9, tm_mday=22, tm_hour=22, tm_min=51, tm_sec=30, tm_wday=3, tm_yday=265, tm_isdst=-1)),\n",
       "             ('comment',\n",
       "              'Undid revision 1111788279 by [[Special:Contributions/Jtbobwaysf|Jtbobwaysf]] ([[User talk:Jtbobwaysf|talk]]) self revert')])"
      ]
     },
     "execution_count": 3,
     "metadata": {},
     "output_type": "execute_result"
    }
   ],
   "source": [
    "revs[0] #A revision is an organised dictionary"
   ]
  },
  {
   "cell_type": "code",
   "execution_count": 4,
   "id": "14e19b64",
   "metadata": {},
   "outputs": [
    {
     "data": {
      "text/plain": [
       "OrderedDict([('revid', 275832581),\n",
       "             ('parentid', 0),\n",
       "             ('user', 'Pratyeka'),\n",
       "             ('timestamp',\n",
       "              time.struct_time(tm_year=2009, tm_mon=3, tm_mday=8, tm_hour=16, tm_min=41, tm_sec=7, tm_wday=6, tm_yday=67, tm_isdst=-1)),\n",
       "             ('comment', 'creation (stub)')])"
      ]
     },
     "execution_count": 4,
     "metadata": {},
     "output_type": "execute_result"
    }
   ],
   "source": [
    "revs = sorted(revs, key=lambda rev: rev[\"timestamp\"]) #reverse sort using the time stamp field to get the 1st ever edit\n",
    "revs[0]"
   ]
  },
  {
   "cell_type": "code",
   "execution_count": null,
   "id": "b6e73a32",
   "metadata": {},
   "outputs": [],
   "source": [
    "pip install tensorflow"
   ]
  },
  {
   "cell_type": "markdown",
   "id": "73177277",
   "metadata": {},
   "source": [
    "<b>Sentiment of page edits</b>"
   ]
  },
  {
   "cell_type": "code",
   "execution_count": null,
   "id": "09f22b46",
   "metadata": {},
   "outputs": [],
   "source": [
    "from transformers import pipeline #A library for deep learning pre-trained models - \n",
    "sentiment_pipeline = pipeline('sentiment-analysis') #Running this will download a sentiment analysis model \n",
    "\n",
    "def find_sentiment(text):\n",
    "    sent = sentiment_pipeline([text[:250]])[0]\n",
    "    score = sent['score']\n",
    "    if sent['label'] == 'NEGATIVE':\n",
    "        score *= -1\n",
    "    return score  "
   ]
  },
  {
   "cell_type": "code",
   "execution_count": null,
   "id": "1f365756",
   "metadata": {},
   "outputs": [],
   "source": []
  }
 ],
 "metadata": {
  "kernelspec": {
   "display_name": "Python 3 (ipykernel)",
   "language": "python",
   "name": "python3"
  },
  "language_info": {
   "codemirror_mode": {
    "name": "ipython",
    "version": 3
   },
   "file_extension": ".py",
   "mimetype": "text/x-python",
   "name": "python",
   "nbconvert_exporter": "python",
   "pygments_lexer": "ipython3",
   "version": "3.10.1"
  }
 },
 "nbformat": 4,
 "nbformat_minor": 5
}
